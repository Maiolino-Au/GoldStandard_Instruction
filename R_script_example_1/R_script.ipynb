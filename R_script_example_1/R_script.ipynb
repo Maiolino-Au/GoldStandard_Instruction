{
 "cells": [
  {
   "cell_type": "code",
   "execution_count": null,
   "id": "966e9aee-0d58-4a4a-b99a-272d09f074cb",
   "metadata": {},
   "outputs": [],
   "source": [
    "# LOAD LIBRARIES\n",
    "library(Seurat)\n",
    "library(tidyverse)\n",
    "library(future)\n",
    "library(ggplot2)\n",
    "library(dplyr)\n",
    "library(presto)\n",
    "library(cowplot)"
   ]
  },
  {
   "cell_type": "code",
   "execution_count": null,
   "id": "a89e0669-c0b0-4f26-b949-849c963086d6",
   "metadata": {},
   "outputs": [],
   "source": [
    "# SET UP NAMES\n",
    "path_to_data <- \"/sharedFolder/Data/\"\n",
    "name_of_the_data <- \"\"\n",
    "\n",
    "# Make folders for partials and results\n",
    "name_new_dir_results <- paste(getwd(), \"/Results\", sep = \"\")\n",
    "if (!dir.exists(name_new_dir_results)) {dir.create(name_new_dir_results)}\n",
    "name_new_dir_partial <- paste(getwd(), \"/Partial\", sep = \"\")\n",
    "if (!dir.exists(name_new_dir_partial)) {dir.create(name_new_dir_partial)}"
   ]
  },
  {
   "cell_type": "code",
   "execution_count": null,
   "id": "f0f8245a-ba88-4f4a-8e2c-12d419d55d0e",
   "metadata": {},
   "outputs": [],
   "source": [
    "# LOAD DATA, NORMALIZE, FIND VARIABLE FEATURES, SCALE DATA____________________________________________________________________________________________________________\n",
    "# Load the data\n",
    "sc_data <- Read10X(data.dir = paste(path_to_data, name_of_the_data, # paste() is the command to unite two strings\n",
    "                                    sep = \"\"), # This specifies which caracter to put between the strings, with \"\" it puts nothing, by default it ads a space. paste0() is a paste() but with sep = \"\" as default\n",
    "                   gene.column = 1) # Some dataset have double names for the genes, both the Gene cards symbol (ex.  SRCIN1) and the Ensembl code (ex. ENSG00000277363). With gene.column you select wich one to use, in this case i used gene card \n",
    "\n",
    "# Create Seurat object\n",
    "sc_data <- CreateSeuratObject(counts = sc_data, \n",
    "                              min.cells = 3, \n",
    "                              min.features = 500, \n",
    "                              project = name_of_the_data, \n",
    "                              names.delim = \"-\", \n",
    "                              names.field = 2)\n",
    "\n",
    "# Normalize the data\n",
    "sc_data <- NormalizeData(sc_data, \n",
    "                         normalization.method = \"LogNormalize\", \n",
    "                         scale.factor = 1e6)\n",
    "\n",
    "# Find variable features\n",
    "sc_data <- FindVariableFeatures(sc_data, \n",
    "                                selection.method = \"mvp\", \n",
    "                                nfeatures = 2000)\n",
    "\n",
    "# Scale the data\n",
    "sc_data <- ScaleData(sc_data)\n",
    "\n",
    "# Save the Scaled data\n",
    "print(paste(\"Saving PCA for time point\", name_of_the_data, \"in\", name_new_dir))\n",
    "save(sc_data, file = paste(name_new_dir_partial, \"/Scaled_\", name_of_the_data, \".Robj\", sep = \"\"))"
   ]
  },
  {
   "cell_type": "code",
   "execution_count": null,
   "id": "e22ee02e-8242-4b37-ace1-c49627f56ca6",
   "metadata": {},
   "outputs": [],
   "source": [
    "# PCA&Clusterization____________________________________________________________________________________________________________\n",
    "print(paste(\"Running PCA and clustering for time point:\", name_of_the_data))\n",
    "\n",
    "# PCA\n",
    "sc_data <- RunPCA(sc_data, \n",
    "                  npcs = 50, # Number of \"principal components\" (dimensions)\n",
    "                  verbose = FALSE) # Removes output \n",
    "print(ElbowPlot(object = sc_data, ndims = 50)) # This plot shows how much of the diversity is covered by a determinate number of dimensions\n",
    "\n",
    "# Cluster the cells\n",
    "sc_data <- FindNeighbors(sc_data, dims = 1:40) # More dimension mean more precision, but it will aslo take longer. It is unnecessary to go above 50, many use 40, some 30. If you are giust doing excercise 10 is enough\n",
    "sc_data <- FindClusters(sc_data, resolution = 1) # The higher the resolution the more cluster will be found\n",
    "print(table(Idents(sc_data)))\n",
    "\n",
    "# Save the PCA plot\n",
    "print(paste(\"Saving PCA for time point\", name_of_the_data, \"in\", name_new_dir))\n",
    "save(sc_data, file = paste(name_new_dir_partial, \"/PCA_res_\", name_of_the_data, \".Robj\", sep = \"\"))"
   ]
  },
  {
   "cell_type": "code",
   "execution_count": null,
   "id": "6af3a5f9-ab25-4d8d-9b56-d06a133b816c",
   "metadata": {},
   "outputs": [],
   "source": [
    "# Make and plot UMAP\n",
    "sc_UMAP <- RunUMAP(sc_data, dims = 1:10)\n",
    "DimPlot(sc_UMAP, reduction = \"umap\", label = TRUE, pt.size = 1)"
   ]
  },
  {
   "cell_type": "code",
   "execution_count": null,
   "id": "e2a501a8-ea7a-48d6-964c-55b86f1af276",
   "metadata": {},
   "outputs": [],
   "source": [
    "# FIND ALL MARKERS____________________________________________________________________________________________________________\n",
    "print(paste(\"Finding all markers for time point:\", name_of_the_data))\n",
    "\n",
    "# Find all markers for every cluster compared to all remaining cells\n",
    "cluster_markers <- FindAllMarkers(sc_data, \n",
    "                                  only.pos = TRUE, # Considera solo i marker espressi positivamente\n",
    "                                  min.pct = 0.25, # Percentuale minima di espressione nelle cellule del cluster\n",
    "                                  logfc.threshold = 0.25) # Soglia minima di LogFC\n",
    "\n",
    "# Save the markers\n",
    "print(paste(\"Saving cluster markers for time point\", name_of_the_data, \"in\", name_new_dir))\n",
    "save(cluster_markers, file = paste(name_new_dir_partial, \"/cluster_markers_\", name_of_the_data, \".Robj\", sep = \"\"))"
   ]
  },
  {
   "cell_type": "code",
   "execution_count": null,
   "id": "111f95c7-e03a-4b7c-abd3-33e34614f343",
   "metadata": {},
   "outputs": [],
   "source": [
    "# FIND DIFFERENTIALLY EXPRESSED GENES____________________________________________________________________________________________________________\n",
    "de.genes <- function(genes_oi) {\n",
    "    print(paste(\"Finding differentially expressed genes for time point:\", name_of_the_data))\n",
    "\n",
    "    # Find differentially expressed genes\n",
    "    de_genes <- cluster_markers %>% filter(gene %in% genes_of_interest)\n",
    "    print(de_genes)\n",
    "\n",
    "    # Save the DE genes\n",
    "    print(paste(\"Saving differentially expressed genes for time point\", name_of_the_data, \"in\", name_new_dir))\n",
    "    write.csv(de_genes, file = paste(name_new_dir_results, \"/de_genes_\", name_of_the_data, \".csv\", sep = \"\"))\n",
    "\n",
    "    return(de_genes)\n",
    "}"
   ]
  },
  {
   "cell_type": "code",
   "execution_count": null,
   "id": "4e512457-ab29-4884-bad8-137e821607b5",
   "metadata": {},
   "outputs": [],
   "source": [
    "de.genes(\"\")"
   ]
  },
  {
   "cell_type": "code",
   "execution_count": null,
   "id": "1fe030e3-4860-42e0-9cc0-6619b932777d",
   "metadata": {},
   "outputs": [],
   "source": [
    "# RELOAD DATA____________________________________________________________________________________________________________\n",
    "load.sc_data <- function(name_of_the_data) {\n",
    "    load(paste(name_new_dir_partial, \"/Scaled_\", name_of_the_data, \".Robj\", sep = \"\"))\n",
    "    return(sc_data)\n",
    "}\n",
    "\n",
    "load.clusters <- function(name_of_the_data) {\n",
    "    load(paste(name_new_dir_partial, \"/PCA_\", name_of_the_data, \".Robj\", sep = \"\"))\n",
    "    return(sc_data)\n",
    "}\n",
    "\n",
    "load.markers <- function(name_of_the_data) {\n",
    "    load(paste(name_new_dir_partial, \"/cluster_markers_\", name_of_the_data, \".Robj\", sep = \"\"))\n",
    "    return(cluster_markers)\n",
    "}"
   ]
  },
  {
   "cell_type": "code",
   "execution_count": null,
   "id": "0387b2d0-679f-41ec-89e9-06f7d2c50dce",
   "metadata": {},
   "outputs": [],
   "source": [
    "# If you whant to reload form partials - Scaled Data\n",
    "sc_data <- load.sc_data(\"\")"
   ]
  },
  {
   "cell_type": "code",
   "execution_count": null,
   "id": "c9a924bf-4965-4147-b8e6-0837cac85036",
   "metadata": {},
   "outputs": [],
   "source": [
    "# If you whant to reload form partials - after PCA and clustarization\n",
    "sc_data <- load.clusters(\"\")"
   ]
  },
  {
   "cell_type": "code",
   "execution_count": null,
   "id": "67355325-f30c-4474-a8dc-4a46eb4bffe3",
   "metadata": {},
   "outputs": [],
   "source": [
    "# If you whant to reload form partials - the cluster markers\n",
    "cluster_markers <- load.markers(\"\")"
   ]
  }
 ],
 "metadata": {
  "kernelspec": {
   "display_name": "R",
   "language": "R",
   "name": "ir"
  },
  "language_info": {
   "codemirror_mode": "r",
   "file_extension": ".r",
   "mimetype": "text/x-r-source",
   "name": "R",
   "pygments_lexer": "r",
   "version": "4.5.0"
  }
 },
 "nbformat": 4,
 "nbformat_minor": 5
}
